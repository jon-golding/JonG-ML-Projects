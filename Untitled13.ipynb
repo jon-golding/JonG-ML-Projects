{
 "cells": [
  {
   "cell_type": "code",
   "execution_count": 2,
   "id": "f9c0ccc4",
   "metadata": {},
   "outputs": [],
   "source": [
    "#1 solving a real-world problem of runner distance and speed using a system of simultaneous linear equations as plotted with the matplotlib library.  \n",
    "\n",
    "#problem: If runner_2 leaves from the same starting point 7 minutes after runner_1, how many km into the run will it take for runner_2 to catch up to runner_1? \n",
    "#given that runner 1 is travelling at a speed of 5.5km/hr and runner_2 is travelling at a speed of 8km/hr.\n",
    "#Lastly, how much time will have passed before runner_2 catches up to runner_1?\n",
    "\n",
    "import numpy as np\n",
    "import math\n",
    "import matplotlib.pyplot as plt"
   ]
  },
  {
   "cell_type": "code",
   "execution_count": 10,
   "id": "6e53e50f",
   "metadata": {},
   "outputs": [],
   "source": [
    "t= np.linspace(0,120,500)"
   ]
  },
  {
   "cell_type": "code",
   "execution_count": 11,
   "id": "2a012708",
   "metadata": {},
   "outputs": [],
   "source": [
    "#distance travelled by runner1 = d = 5.5km/hr = .0917 km/minute \n",
    "# d = .0917t where t= time in minutes\n"
   ]
  },
  {
   "cell_type": "code",
   "execution_count": 32,
   "id": "388fd06d",
   "metadata": {},
   "outputs": [],
   "source": [
    "d_runner_1 = .0917 * t"
   ]
  },
  {
   "cell_type": "code",
   "execution_count": 16,
   "id": "8d6ed047",
   "metadata": {},
   "outputs": [],
   "source": [
    "#distance travelled by runner2 where runner2 leaves 7 minutes after runner 1 from the same starting point travelling at 8 km/hr = .1333 km/minute\n",
    "# d = .1333 * (t-7) where t=time in minutes"
   ]
  },
  {
   "cell_type": "code",
   "execution_count": 33,
   "id": "3e366eb6",
   "metadata": {},
   "outputs": [],
   "source": [
    "d_runner_2 = .1333 * (t-7)"
   ]
  },
  {
   "cell_type": "code",
   "execution_count": 19,
   "id": "3d8317eb",
   "metadata": {},
   "outputs": [],
   "source": [
    "#defining the plot parameters\n"
   ]
  },
  {
   "cell_type": "code",
   "execution_count": 39,
   "id": "b3f7984e",
   "metadata": {
    "scrolled": true
   },
   "outputs": [
    {
     "data": {
      "text/plain": [
       "[<matplotlib.lines.Line2D at 0x7fa8be3da6d0>]"
      ]
     },
     "execution_count": 39,
     "metadata": {},
     "output_type": "execute_result"
    },
    {
     "data": {
      "image/png": "[encoded data removed]",
      "text/plain": [
       "<Figure size 432x288 with 1 Axes>"
      ]
     },
     "metadata": {
      "needs_background": "light"
     },
     "output_type": "display_data"
    }
   ],
   "source": [
    "fig, ax = plt.subplots()\n",
    "plt.title('Time & Distance Needed to Catch Runner_1')\n",
    "plt.xlabel('Time in Minutes')\n",
    "plt.ylabel('Distance in Km')\n",
    "ax.set_xlim([0,35])\n",
    "ax.set_ylim([0,3])\n",
    "ax.plot(t, d_runner_1, c='blue')\n",
    "ax.plot(t, d_runner_2, c='red')"
   ]
  },
  {
   "cell_type": "code",
   "execution_count": 42,
   "id": "776baca9",
   "metadata": {},
   "outputs": [],
   "source": [
    "#To verify the above plot, I've solved the problem algebraically:\n",
    "#To solve for time first:\n",
    "# .0917t = d\n",
    "# .1333(t-7)= d\n",
    "# Both equations above are equal to d, therefore:\n",
    "# .0917t = .1333(t-7)\n",
    "# .0917t = .1333t - .9331\n",
    "# .9331 = .0416t\n",
    "# 22.4 = t\n",
    "# time in minutes = 22.4\n",
    "\n",
    "#To solve for distance:\n",
    "# .0917(t) = d\n",
    "# .0917(22.4) = 2.054 \n",
    "# distance in Km = 2.054"
   ]
  },
  {
   "cell_type": "code",
   "execution_count": null,
   "id": "edcaa657",
   "metadata": {},
   "outputs": [],
   "source": []
  }
 ],
 "metadata": {
  "kernelspec": {
   "display_name": "Python 3 (ipykernel)",
   "language": "python",
   "name": "python3"
  },
  "language_info": {
   "codemirror_mode": {
    "name": "ipython",
    "version": 3
   },
   "file_extension": ".py",
   "mimetype": "text/x-python",
   "name": "python",
   "nbconvert_exporter": "python",
   "pygments_lexer": "ipython3",
   "version": "3.9.12"
  }
 },
 "nbformat": 4,
 "nbformat_minor": 5
}
